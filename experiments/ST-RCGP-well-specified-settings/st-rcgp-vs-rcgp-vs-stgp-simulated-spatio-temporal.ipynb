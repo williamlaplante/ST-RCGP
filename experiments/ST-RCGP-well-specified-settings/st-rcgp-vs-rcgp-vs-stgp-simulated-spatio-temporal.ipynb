{
 "cells": [
  {
   "cell_type": "code",
   "execution_count": 1,
   "metadata": {},
   "outputs": [],
   "source": [
    "import sys\n",
    "sys.path.append('../../')\n",
    "\n",
    "import torch as tc\n",
    "import numpy as np\n",
    "\n",
    "import matplotlib.pyplot as plt\n",
    "\n",
    "import pandas as pd\n",
    "\n",
    "from rcgp.rcgp import SpatioTemporalRCGP\n",
    "from matplotlib.colors import LinearSegmentedColormap\n",
    "\n",
    "from tqdm import tqdm\n",
    "\n",
    "from data.simulations import spatio_temporal_half_contaminated\n",
    "\n",
    "plt.rc('font', family='serif', size=12)"
   ]
  },
  {
   "cell_type": "code",
   "execution_count": 52,
   "metadata": {},
   "outputs": [],
   "source": [
    "def compute_nlpd(y_true, mu_pred, sigma_pred):\n",
    "\n",
    "    # Ensure inputs are numpy arrays\n",
    "    y_true = np.array(y_true)\n",
    "    mu_pred = np.array(mu_pred)\n",
    "    sigma_pred = np.array(sigma_pred)\n",
    "    \n",
    "    # Avoid division by zero or invalid log by adding a small epsilon to sigma\n",
    "    epsilon = 1e-6\n",
    "    sigma_pred = np.maximum(sigma_pred, epsilon)\n",
    "    \n",
    "    # Compute log predictive density for Gaussian\n",
    "    log_pdf = -0.5 * np.log(2 * np.pi * sigma_pred**2) - ((y_true - mu_pred)**2 / (2 * sigma_pred**2))\n",
    "    \n",
    "    # Compute and return the NLPD\n",
    "    nlpd = -np.mean(log_pdf)\n",
    "    return nlpd\n",
    "\n",
    "def compute_rmse(y_true, y_pred):\n",
    "    y_true = np.array(y_true)\n",
    "    y_pred = np.array(y_pred)\n",
    "    \n",
    "    if len(y_true) != len(y_pred):\n",
    "        raise ValueError(\"The lengths of y_true and y_pred must be the same.\")\n",
    "    \n",
    "    mse = np.mean((y_true - y_pred) ** 2)\n",
    "    rmse = np.sqrt(mse)\n",
    "    return rmse"
   ]
  },
  {
   "cell_type": "code",
   "execution_count": 24,
   "metadata": {},
   "outputs": [],
   "source": [
    "ts, grids, Ys, true_Ys, Ys_no_outliers, outliers_loc, n_lon, n_lat, lon_norm, lat_norm = spatio_temporal_half_contaminated()"
   ]
  },
  {
   "cell_type": "code",
   "execution_count": 25,
   "metadata": {},
   "outputs": [],
   "source": [
    "def scoring_rule(Ys : tc.Tensor, preds : tc.Tensor, covs : tc.Tensor, R : tc.Tensor, Ws: tc.Tensor):\n",
    "\n",
    "    S = covs + R\n",
    "    eps = Ys - preds\n",
    "\n",
    "    mahalanobis_dist = (eps.mT @ tc.linalg.inv(S) @ eps).squeeze()\n",
    "    norm_const = tc.logdet(2 * tc.pi * S)\n",
    "\n",
    "    energies = 0.5 * (norm_const + mahalanobis_dist)\n",
    "    \n",
    "    return energies.sum()"
   ]
  },
  {
   "cell_type": "markdown",
   "metadata": {},
   "source": [
    "# Training model on no outliers"
   ]
  },
  {
   "cell_type": "code",
   "execution_count": 26,
   "metadata": {},
   "outputs": [
    {
     "name": "stderr",
     "output_type": "stream",
     "text": [
      "100%|██████████| 25/25 [00:28<00:00,  1.14s/it]\n"
     ]
    },
    {
     "data": {
      "image/png": "[encoded data removed]",
      "text/plain": [
       "<Figure size 800x200 with 1 Axes>"
      ]
     },
     "metadata": {},
     "output_type": "display_data"
    }
   ],
   "source": [
    "gp_std = SpatioTemporalRCGP(ts=ts, grid=grids[0], Ys=Ys_no_outliers, p=1)\n",
    "gp_std.deactivate_robustness()\n",
    "\n",
    "losses = []\n",
    "n_steps = 25\n",
    "lr = 0.3\n",
    "\n",
    "optimizer = tc.optim.Adam(gp_std.parameters(), lr=lr)\n",
    "\n",
    "\n",
    "for step in tqdm(range(n_steps)):\n",
    "    _,(preds, covs, R, Ws), _ = gp_std.forward(smoothing=False)\n",
    "\n",
    "    loss = scoring_rule(Ys=Ys_no_outliers, preds=preds, covs=covs, R=R, Ws=Ws)\n",
    "    loss.backward()\n",
    "    losses.append(loss.clone().detach())\n",
    "    \n",
    "    optimizer.step()  # Update parameters\n",
    "    optimizer.zero_grad()  # Reset gradients\n",
    "\n",
    "plt.figure(figsize=(8,2))\n",
    "plt.plot(losses)\n",
    "plt.ylabel(\"Loss\")\n",
    "plt.xlabel(\"Optimisation Step\");"
   ]
  },
  {
   "cell_type": "code",
   "execution_count": 27,
   "metadata": {},
   "outputs": [
    {
     "name": "stdout",
     "output_type": "stream",
     "text": [
      "0.03425326570868492\n",
      "0.15441787242889404 6.181653022766113\n",
      "3.440368890762329 3.4392268657684326\n"
     ]
    }
   ],
   "source": [
    "var_y = gp_std.var_y.clone().detach().item()\n",
    "temporal_lengthscale = gp_std.temporal_lengthscale.clone().detach().item()\n",
    "spatial_lengthscale = gp_std.spatial_lengthscale.clone().detach().item()\n",
    "temporal_magnitude = gp_std.temporal_magnitude.clone().detach().item()\n",
    "spatial_magnitude = gp_std.spatial_magnitude.clone().detach().item()\n",
    "\n",
    "print(var_y)\n",
    "print(temporal_lengthscale, spatial_lengthscale)\n",
    "print(temporal_magnitude, spatial_magnitude)"
   ]
  },
  {
   "cell_type": "code",
   "execution_count": 39,
   "metadata": {},
   "outputs": [
    {
     "data": {
      "text/plain": [
       "2.579543542861939"
      ]
     },
     "execution_count": 39,
     "metadata": {},
     "output_type": "execute_result"
    }
   ],
   "source": [
    "np.quantile(np.abs(Ys - Ys.mean()), 0.9)"
   ]
  },
  {
   "cell_type": "code",
   "execution_count": 78,
   "metadata": {},
   "outputs": [],
   "source": [
    "def get_performance_metrics(model_name, outliers=True, n_iter=10):\n",
    "    effs = []\n",
    "    rmses = []\n",
    "    nlpds = []\n",
    "\n",
    "    for i in range(n_iter):\n",
    "        ts, grids, Ys, true_Ys, Ys_no_outliers, outliers_loc, n_lon, n_lat, lon_norm, lat_norm = spatio_temporal_half_contaminated(seed=np.random.randint(1e5))\n",
    "\n",
    "        if outliers:\n",
    "            data = Ys\n",
    "        else:\n",
    "            data = Ys_no_outliers\n",
    "        \n",
    "        model = SpatioTemporalRCGP(ts=ts, grid=grids[0], Ys=data, p=1)\n",
    "        \n",
    "        model.var_y = var_y\n",
    "        model.temporal_lengthscale = temporal_lengthscale\n",
    "        model.spatial_lengthscale = spatial_lengthscale\n",
    "        model.temporal_magnitude = temporal_magnitude\n",
    "        model.spatial_magnitude = spatial_magnitude\n",
    "\n",
    "\n",
    "        if model_name=='RCGP':\n",
    "            model.activate_robustness(func='constant')\n",
    "            model.c = np.quantile(np.abs(data - data.mean()), 0.9)\n",
    "\n",
    "        elif model_name=='STGP':\n",
    "            model.deactivate_robustness()\n",
    "\n",
    "        elif model_name=='ST-RCGP':\n",
    "            model.activate_robustness(func='m_pred')\n",
    "            \n",
    "        with tc.no_grad():\n",
    "            (preds_smooth, stds_smooth, eff), (preds_filt, covs_filt, R, Ws_norm), (ms, Ps) = model.forward(smoothing=True)\n",
    "\n",
    "        stds_smooth = np.abs(stds_smooth) #this is to avoid [nan] which is not correct to do technically\n",
    "\n",
    "        rmses.append(compute_rmse(y_true=Ys_no_outliers.squeeze(-1), y_pred=preds_smooth))\n",
    "        nlpds.append(compute_nlpd(y_true=Ys_no_outliers.squeeze(-1), mu_pred=preds_smooth, sigma_pred=stds_smooth))\n",
    "        effs.append(eff.mean().item())\n",
    "        \n",
    "    return effs, rmses, nlpds"
   ]
  },
  {
   "cell_type": "code",
   "execution_count": 79,
   "metadata": {},
   "outputs": [],
   "source": [
    "final_list = []\n",
    "\n",
    "for outliers_bool in [True, False]:\n",
    "    for model_name in ['RCGP', 'STGP', 'ST-RCGP']:\n",
    "        effs, rmses, nlpds = get_performance_metrics(model_name=model_name, outliers=outliers_bool, n_iter=50)\n",
    "        final_list.append([outliers_bool, model_name, np.nanmean(effs), np.nanstd(effs), np.nanmean(rmses), np.nanstd(rmses), np.nanmean(nlpds), np.nanstd(nlpds)])"
   ]
  },
  {
   "cell_type": "code",
   "execution_count": 80,
   "metadata": {},
   "outputs": [
    {
     "name": "stdout",
     "output_type": "stream",
     "text": [
      "[True, 'RCGP', 0.8862466955184937, 0.0007847707290014149, 0.21087605, 0.006321258, 6.5951037, 0.26543644]\n",
      "[True, 'STGP', 1.0, 0.0, 0.3776762, 0.014853565, 29.950686, 2.4942515]\n",
      "[True, 'ST-RCGP', 0.8628977191448212, 0.0023695450795896424, 0.19426803, 0.0035213914, 5.459024, 0.1567732]\n",
      "[False, 'RCGP', 0.8936744379997253, 0.0007098696158299973, 0.19246559, 0.0025235072, 5.5857816, 0.14350414]\n",
      "[False, 'STGP', 1.0, 0.0, 0.19106537, 0.0016801136, 6.519972, 0.15351626]\n",
      "[False, 'ST-RCGP', 0.902815591096878, 0.00048587162491969235, 0.19273199, 0.0030335474, 5.6552224, 0.14571653]\n"
     ]
    }
   ],
   "source": [
    "for i in range(6): print(final_list[i])"
   ]
  },
  {
   "cell_type": "code",
   "execution_count": null,
   "metadata": {},
   "outputs": [],
   "source": []
  }
 ],
 "metadata": {
  "kernelspec": {
   "display_name": "RTGP",
   "language": "python",
   "name": "python3"
  },
  "language_info": {
   "codemirror_mode": {
    "name": "ipython",
    "version": 3
   },
   "file_extension": ".py",
   "mimetype": "text/x-python",
   "name": "python",
   "nbconvert_exporter": "python",
   "pygments_lexer": "ipython3",
   "version": "3.12.3"
  }
 },
 "nbformat": 4,
 "nbformat_minor": 2
}
