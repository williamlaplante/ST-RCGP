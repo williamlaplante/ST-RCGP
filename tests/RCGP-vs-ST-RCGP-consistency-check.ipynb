{
 "cells": [
  {
   "cell_type": "code",
   "execution_count": 1,
   "metadata": {},
   "outputs": [
    {
     "name": "stderr",
     "output_type": "stream",
     "text": [
      "/opt/miniconda3/envs/RTGP/lib/python3.12/site-packages/tqdm/auto.py:21: TqdmWarning: IProgress not found. Please update jupyter and ipywidgets. See https://ipywidgets.readthedocs.io/en/stable/user_install.html\n",
      "  from .autonotebook import tqdm as notebook_tqdm\n"
     ]
    }
   ],
   "source": [
    "import sys\n",
    "sys.path.append('../')\n",
    "\n",
    "import torch as tc\n",
    "import numpy as np\n",
    "import matplotlib.pyplot as plt\n",
    "\n",
    "import gpytorch\n",
    "\n",
    "from rcgp.experimental import SpatioTemporalRCGP\n",
    "from rcgp.kernels import Matern32Kernel\n",
    "\n",
    "from rcgp.weight_functions import IMQ, partial_y_IMQ"
   ]
  },
  {
   "cell_type": "code",
   "execution_count": 28,
   "metadata": {},
   "outputs": [],
   "source": [
    "def generate_data(lengthscale=0.4, magnitude=2., var_y = 0.02, seed=42):\n",
    "    tc.manual_seed(seed)  # For reproducibility\n",
    "\n",
    "    x = tc.linspace(0, 1, 100)  # Same points for training and testing\n",
    "    # Define known kernel parameters\n",
    "    kernel = Matern32Kernel(lengthscale=tc.tensor(lengthscale), magnitude=tc.tensor(magnitude))\n",
    "\n",
    "    cov_matrix = kernel.forward(x.reshape(-1,1), x.reshape(-1,1)) + 1e-5 * tc.eye(len(x))\n",
    "    mean = tc.zeros(x.shape)\n",
    "\n",
    "    true_f = tc.distributions.MultivariateNormal(mean, cov_matrix).sample()\n",
    "    true_f = true_f - true_f.mean()\n",
    "\n",
    "    noise = tc.distributions.Normal(0, var_y).sample(true_f.shape)\n",
    "\n",
    "    y = true_f + noise\n",
    "\n",
    "    return x, y, true_f"
   ]
  },
  {
   "cell_type": "code",
   "execution_count": 29,
   "metadata": {},
   "outputs": [],
   "source": [
    "def rcgp(var_y, magnitude, lengthscale, grid, Ys, return_std=True):\n",
    "\n",
    "    with tc.no_grad():\n",
    "        matern_kernel = gpytorch.kernels.ScaleKernel(gpytorch.kernels.MaternKernel(nu=3/2))\n",
    "        matern_kernel.base_kernel.lengthscale = tc.tensor(lengthscale)\n",
    "        matern_kernel.outputscale = tc.tensor(magnitude)\n",
    "        K = matern_kernel.forward(grid.reshape(-1,1), grid.reshape(-1,1))\n",
    "\n",
    "    m = tc.zeros_like(Ys, dtype=tc.float32) + Ys.mean()\n",
    "\n",
    "    beta= np.sqrt(var_y / 2)\n",
    "    c= 1.\n",
    "    \n",
    "    w = IMQ(Y=Ys, m=m, beta=beta, c=c)\n",
    "    partial_w = partial_y_IMQ(Y=Ys, m=m, beta=beta, c=c)\n",
    "\n",
    "    J_w = tc.diag((var_y / 2) * w.flatten()**(-2))\n",
    "\n",
    "    m_w = m + 2 * var_y * (w)**(-1) * partial_w\n",
    "\n",
    "    A = tc.linalg.inv(K + var_y * J_w)\n",
    "\n",
    "    mu_rcgp = m + K @ A @ (Ys - m_w)\n",
    "\n",
    "    if return_std:\n",
    "        Sigma = K @ A @ (var_y * J_w)\n",
    "        std_rcgp = tc.sqrt(tc.diag(Sigma))\n",
    "    \n",
    "        return mu_rcgp.flatten(), std_rcgp\n",
    "\n",
    "    else:\n",
    "        return mu_rcgp.flatten()"
   ]
  },
  {
   "cell_type": "code",
   "execution_count": 65,
   "metadata": {},
   "outputs": [],
   "source": [
    "def run(true_lengthscale=0.2, true_magnitude=2, true_var_y=0.25, seed=42):\n",
    "\n",
    "    Xs, Ys, true_func = generate_data(lengthscale=true_lengthscale, magnitude=true_magnitude, var_y=true_var_y, seed=seed)\n",
    "\n",
    "    st_rcgp = SpatioTemporalRCGP(ts=Xs.reshape(-1,1), grid=None, Ys=Ys.reshape(-1,1), p=1)\n",
    "\n",
    "    st_rcgp.var_y = true_var_y\n",
    "    st_rcgp.temporal_lengthscale = true_lengthscale\n",
    "    st_rcgp.temporal_magnitude = true_magnitude\n",
    "\n",
    "    with tc.no_grad():\n",
    "        st_rcgp.activate_robustness(func='constant') #Weight function = Ys.mean()\n",
    "        st_rcgp.c = 1. #Fixing c\n",
    "\n",
    "        (pred_st_rcgp_robust, std_st_rcgp_robust, _), _, _  = st_rcgp.forward()\n",
    "        pred_st_rcgp_robust = pred_st_rcgp_robust.squeeze()\n",
    "        std_st_rcgp_robust = std_st_rcgp_robust.squeeze()\n",
    "\n",
    "    pred_rcgp, std_rcgp = rcgp(var_y=true_var_y,\n",
    "                            magnitude=true_magnitude,\n",
    "                            lengthscale=true_lengthscale,\n",
    "                            grid=Xs.reshape(-1,1),\n",
    "                            Ys=Ys.reshape(-1,1))\n",
    "    \n",
    "    return (pred_st_rcgp_robust, std_st_rcgp_robust), (pred_rcgp, std_rcgp), Xs, Ys\n",
    "\n",
    "\n",
    "def compare(true_lengthscale=0.2, true_magnitude=2, true_var_y=0.25, seed=42):\n",
    "    (pred_st_rcgp_robust, std_st_rcgp_robust), (pred_rcgp, std_rcgp), Xs, Ys = run(true_lengthscale, true_magnitude, true_var_y, seed)\n",
    "\n",
    "    return np.abs(pred_rcgp - pred_st_rcgp_robust).max(), np.abs(std_st_rcgp_robust - std_rcgp).max(), Ys\n",
    "\n",
    "\n",
    "def plot(true_lengthscale=0.2, true_magnitude=2, true_var_y=0.25, seed=42):\n",
    "    (pred_st_rcgp_robust, std_st_rcgp_robust), (pred_rcgp, std_rcgp), Xs, Ys = run(true_lengthscale, true_magnitude, true_var_y, seed)\n",
    "\n",
    "    plt.figure(figsize=(6,3))\n",
    "\n",
    "    #Data and True Function\n",
    "    plt.plot(Xs.numpy(), Ys.numpy(), 'k.', label='Data')\n",
    "\n",
    "    #ST-RCGP\n",
    "    plt.plot(Xs.numpy(), pred_st_rcgp_robust.squeeze().numpy(), color='green', label='ST-RCGP')\n",
    "    plt.fill_between(Xs.numpy(), pred_st_rcgp_robust.squeeze().numpy() - 3 * std_st_rcgp_robust.squeeze().numpy(), pred_st_rcgp_robust.squeeze().numpy() + 3 * std_st_rcgp_robust.squeeze().numpy(), color='green', alpha=0.3)\n",
    "\n",
    "    #RCGP\n",
    "    plt.plot(Xs.numpy(), pred_rcgp.squeeze().numpy(), color='red', label='RCGP')\n",
    "    plt.fill_between(Xs.numpy(), pred_rcgp.squeeze().numpy() - 3 * std_rcgp.squeeze().numpy(), pred_rcgp.squeeze().numpy() + 3 * std_rcgp.squeeze().numpy(), color='red', alpha=0.3)\n",
    "\n",
    "    plt.legend(fontsize=10)\n",
    "    return\n",
    "    "
   ]
  },
  {
   "cell_type": "code",
   "execution_count": null,
   "metadata": {},
   "outputs": [],
   "source": [
    "lengthscale_vals = np.linspace(0.1, 3, 5)\n",
    "magnitude_vals = np.linspace(1, 4, 5)\n",
    "var_y_vals = np.linspace(0.1, 1, 5)\n",
    "\n",
    "diff_means, diff_vars = [], []\n",
    "for l in lengthscale_vals:\n",
    "    for m in magnitude_vals:\n",
    "        for var in var_y_vals:\n",
    "            res = compare(l, m, var)\n",
    "            diff_means.append(res[0])\n",
    "            diff_vars.append(res[1])\n",
    "            baselines.append(res[2].mean())"
   ]
  },
  {
   "cell_type": "code",
   "execution_count": 64,
   "metadata": {},
   "outputs": [
    {
     "data": {
      "image/png": "[encoded data removed]",
      "text/plain": [
       "<Figure size 1200x300 with 2 Axes>"
      ]
     },
     "metadata": {},
     "output_type": "display_data"
    }
   ],
   "source": [
    "fig, axs = plt.subplots(1, 2, figsize=(12,3))\n",
    "axs[0].hist(tc.stack(diff_means).numpy(), bins=20)\n",
    "axs[1].hist(tc.stack(diff_vars).numpy(), bins=20);"
   ]
  }
 ],
 "metadata": {
  "kernelspec": {
   "display_name": "RTGP",
   "language": "python",
   "name": "python3"
  },
  "language_info": {
   "codemirror_mode": {
    "name": "ipython",
    "version": 3
   },
   "file_extension": ".py",
   "mimetype": "text/x-python",
   "name": "python",
   "nbconvert_exporter": "python",
   "pygments_lexer": "ipython3",
   "version": "3.12.3"
  }
 },
 "nbformat": 4,
 "nbformat_minor": 2
}
